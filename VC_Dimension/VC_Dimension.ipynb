{
 "cells": [
  {
   "cell_type": "markdown",
   "metadata": {},
   "source": [
    "# **Homework 7 Solutions**\n",
    "\n",
    "Due:"
   ]
  },
  {
   "cell_type": "markdown",
   "metadata": {},
   "source": [
    "## **Written Assignment**"
   ]
  },
  {
   "cell_type": "markdown",
   "metadata": {},
   "source": [
    "### **Problem 1: VC Dimension**\n",
    "\n",
    "For any hypothesis space $\\mathcal{H}$ on domain $\\mathcal{X}$, to show\n",
    "that the VC Dimension of $\\mathcal{H}$ is $d$, you should prove each of\n",
    "the following:\n",
    "\n",
    "-   There exists a set $C \\subset \\mathcal{X}$ of size $d$ such that\n",
    "    $\\mathcal{H}$ shatters $C$\n",
    "\n",
    "-   There does not exist a set $C' \\subset \\mathcal{X}$ of size $d + 1$\n",
    "    such that $\\mathcal{H}$ shatters $C'$"
   ]
  },
  {
   "cell_type": "markdown",
   "metadata": {},
   "source": [
    "#### **Part 1**\n",
    "\n",
    "Compute and prove the VC dimension for the following hypothesis spaces:\n",
    "\n",
    "a.  The class of signed intervals in $\\mathbb{R}$, $\\mathcal{H} = \\{h_{a,b,s} : a \\leq b, s \\in \\{-1, 1\\}\\}$ where: <br> \n",
    "$$h_{a,b,s} = \\begin{cases} s & \\text{if} \\; x \\in [a, b] \\\\ -s & \\text{if} \\; x \\not \\in [a,b] \\end{cases}$$\n",
    "\n",
    "b.  The class of origin-centered spheres in $\\mathbb{R}^d$,\n",
    "    $\\mathcal{H}\n",
    "        = \\{h_{a,s} : s \\in \\{-1, 1\\}, a \\in \\mathbb{R}\\}$ where:\n",
    "    $$h_{a,s} = \n",
    "            \\begin{cases}\n",
    "                s & \\text{if} \\; x \\; \\text{is within or on the origin centered sphere of radius} \\; a \\\\\n",
    "                -s & \\text{if} \\; x \\; \\text{is outside the origin centered sphere of radius} \\; a\n",
    "            \\end{cases}$$"
   ]
  },
  {
   "cell_type": "markdown",
   "metadata": {},
   "source": [
    "**Solutions:**\n",
    "\n",
    "**a.**\n",
    "\n",
    "The VC Dimension of $\\mathcal{H}$ is 3. \n",
    "\n",
    "Let $\\mathcal{H}$ be the hypothesis space of intervals. For any\n",
    "set of three points $C$, all labelings of the three points:\n",
    "$(s, s, s)$, $(s, -s, s)$, $(-s, s, s)$, $(-s, -s, s)$ \\... can\n",
    "be realized by hypothesis space $\\mathcal{H}$ by placing\n",
    "$[a, b]$ to include all continuous points with the same label.\n",
    "We only need to consider these four assignments out of the total\n",
    "eight assignments as they are identical to the other four\n",
    "possible assignments as we can switch our choice of $s$. Thus\n",
    "$VCDim(\\mathcal{H}_{i}) \\geq 3$ as $\\mathcal{H}$ shatters $C$.\n",
    "*Note that it is sufficient to show a concrete example of 3\n",
    "points and enumerate each possible labeling.* \n",
    "\n",
    "Now consider an arbitrary set $C'$ of four points. Since this is\n",
    "a set, we know that each point is distinct. Without loss of\n",
    "generality, we can order these points as\n",
    "$\\{x_1, x_2, x_3, x_4\\}$ with $x_1 < x_2 < x_3 < x_4$.\n",
    "$\\mathcal{H}$ cannot realize the labeling $(s, -s, s, -s)$\n",
    "assignment to this set. Any hypothesis\n",
    "$h_{a, b, s} \\in \\mathcal{H}$ that assigns the label $s$ to\n",
    "points $x_1, x_3$ must also assign $s$ to $x_2$ since we know\n",
    "that $a \\leq x_1 < x_2 < x_3 \\leq b$. Thus, there does not exist\n",
    "any set $C'$ of size 4 such that $\\mathcal{H}$ shatters $C'$.\n",
    "\n",
    "This implies that $VCDim(\\mathcal{H}) = 3.$\n",
    "\n",
    "**b.**\n",
    "\n",
    "The VC Dimension of $\\mathcal{H}$ is 2. \n",
    "\n",
    "Let $\\mathcal{H}$ be the hypothesis space of origin-centered\n",
    "spheres. For a set $C$ of size 2 with points having different L2\n",
    "norms (i.e. $\\{(1, 1), (2, 2)\\})$, we can choose a value of the\n",
    "radius to realize the potential labelings $(s, -s)$ and\n",
    "$(s, s)$. Similar to above, we only need to consider these two\n",
    "cases as they are equivalent to the other two cases by flipping\n",
    "our choice of $s$. Thus, we know that $\\mathcal{H}$ shatters $C$\n",
    "and that $VCDim(\\mathcal{H}) \\ge 2$. *Again, it is sufficient to\n",
    "consider a concrete example.*\n",
    "\n",
    "Now consider an arbitrary set of three points $C'$. We can order\n",
    "these points by their L2 norm as some points $\\{x_1, x_2, x_3\\}$\n",
    "where $||x_1||_2 \\leq ||x_2||_2 \\leq ||x_3||_2$. *Note that we\n",
    "must use $\\leq$ here as distinct points may have the same\n",
    "distance to the origin.* Now, consider the labeling of points\n",
    "$(s, -s, s)$ or that the closest to the origin has label $s$,\n",
    "the furthest point also has label $s$, and the point in between\n",
    "has label $-s$. In this case, there is no such hypothesis\n",
    "$h \\in \\mathcal{H}_{s}$ that can realize this labelling as any\n",
    "hypothesis that labels $x_1, x_3$ as $s$ must also label $x_2$\n",
    "as $s$. Thus, there does not exist any set $C'$ of size 3 such\n",
    "that $\\mathcal{H}$ shatters $C'$. This gives us that\n",
    "$VCDim(\\mathcal{H}) < 3$, and combining the inequalities, we\n",
    "have that $VCDim(\\mathcal{H}) = 2$."
   ]
  },
  {
   "cell_type": "markdown",
   "metadata": {},
   "source": [
    "#### **Part 2**\n",
    "\n",
    "Consider two hypothesis spaces $\\mathcal{H}_1$, $\\mathcal{H}_2$ such\n",
    "that $\\mathcal{H}_1 \\subset \\mathcal{H}_2$. Prove that the VC\n",
    "Dimension of $\\mathcal{H}_2$ is at least as large as the VC\n",
    "Dimension of $\\mathcal{H}_1$."
   ]
  },
  {
   "cell_type": "markdown",
   "metadata": {},
   "source": [
    "**Solution:**\n",
    "\n",
    "Let $VC(\\mathcal{H}_1) = k$. Then, we know that $\\exists$ a set $C$\n",
    "of size $k$ such that $\\mathcal{H}_1$ shatters $C$. This means that\n",
    "for each possible labeling of the points $C$,\n",
    "$\\exists h \\in \\mathcal{H}_1$ that realizes the labeling of those\n",
    "points. Since $\\mathcal{H}_1 \\subset \\mathcal{H}_2$, this same\n",
    "hypothesis $h \\in \\mathcal{H}_2$. This implies that $\\mathcal{H}_2$\n",
    "can also shatter $C$. Thus,\n",
    "$VCDim(\\mathcal{H}_2) \\geq k = VCDim(\\mathcal{H}_1)$."
   ]
  },
  {
   "cell_type": "markdown",
   "metadata": {},
   "source": [
    "### **Problem 2: VC Dimension and PAC Learning**\n",
    "\n",
    "Decision trees can split on data with binary features\n",
    "($\\mathcal{X} = \\{0,1\\}^d$) or continuous features\n",
    "($\\mathcal{X}=\\mathbb{R}^d$). Assume that the nodes of a continuous\n",
    "decision tree have splitting rules that threshold the value of a single\n",
    "feature. *Note that for continuous decision trees, multiple splits can\n",
    "be made on the same feature. For binary decision trees, only a single\n",
    "split can be made on a feature.*\n",
    "\n",
    "Consider the following hypothesis classes: $$\\begin{aligned}\n",
    "    \\mathcal{H}_1 &= \\{h : h \\text{ is a decision tree for data with only binary features}\\} \\\\\n",
    "    \\mathcal{H}_2 &= \\{h : h \\text{ is a decision tree for data with only continuous features}\\}\n",
    "\\end{aligned}$$"
   ]
  },
  {
   "cell_type": "markdown",
   "metadata": {},
   "source": [
    "1.  Compute and prove the VC dimension of $\\mathcal{H}_1$.\n",
    "\n",
    "2.  Show that the VC dimension is infinite for $\\mathcal{H}_2$.\n",
    "\n",
    "3.  Is $\\mathcal{H}_1$ PAC learnable? How about $\\mathcal{H}_2$?\n",
    "    Explain."
   ]
  },
  {
   "cell_type": "markdown",
   "metadata": {},
   "source": [
    "**Solution:**\n",
    "\n",
    "1.  The VC dimension is $2^d$.\n",
    "\n",
    "    With $d$ binary attributes, there are $2^d$ possible input values.\n",
    "    The set of size $2^d$ with each possible input can be shattered by\n",
    "    splitting on every feature to isolate each example to its own leaf.\n",
    "    Then, any possible labeling can be realized as we can choose the\n",
    "    label assigned to each leaf. This is sufficient for the set to be\n",
    "    shattered.\n",
    "    \n",
    "    There is no set of size $2^d+1$, thus $2^d$ is the largest size set\n",
    "    that can be shattered and $VCDim(\\mathcal{H}_1) = 2^d$.\n",
    "\n",
    "    ((( **The following reasoning is actually wrong (there's no set of\n",
    "    size $2^d+1$) and should get partial credit:** Any larger set will\n",
    "    have two examples with the same attribute values. The tree must then\n",
    "    always predict the same label for these examples so the set cannot\n",
    "    be shattered. As a set of size $2^d$ can be shattered but not a set\n",
    "    of size $2^d + 1$, the VC dimension is $2^d$. )))\n",
    "\n",
    "2.  The VC dimension is infinite if for any size $m$ there is a set $C$\n",
    "    that is shattered by $\\mathcal{H}_2$. Consider a set $C$ of size\n",
    "    $m$, where all points have a unique value for attribute $x_0$ and\n",
    "    all other attributes are 0. (*This effectively reduces the problem\n",
    "    into a single dimension $\\mathbb{R}$*). Then, repeatedly choosing\n",
    "    nodes that create splits in between each of the points' attribute\n",
    "    values of $x_0$ isolates each example to its own leaf, so\n",
    "    $\\mathcal{H}_2$ shatters $C$. This holds for a set $C$ for arbitrary\n",
    "    size $m$, so the VC dimension is infinite.\n",
    "\n",
    "3.  By the Fundamental Theorem of Statistical Learning, a hypothesis\n",
    "    class if PAC learnable if and only if it has a finite VC dimension.\n",
    "    Therefore, we can conclude that $H_1$ is PAC learnable but $H_2$ is\n",
    "    not."
   ]
  },
  {
   "cell_type": "markdown",
   "metadata": {},
   "source": [
    "### **Problem 3: Uniform Convergence** \n",
    "\n",
    "In class we proved that finite hypothesis classes enjoy uniform convergence, and therefore are\n",
    "agnostically PAC learnable. In those proofs, we assumed that the loss\n",
    "function has a range of $[0, 1]$. Prove that if the range of the loss\n",
    "function is instead $[a, b]$, then the sample complexity satisfies:\n",
    "\n",
    "$$m_{\\mathcal{H}}(\\epsilon, \\delta)\n",
    "\\leq m_\\mathcal{H}^{\\text{UC}}(\\epsilon / 2, \\delta)\n",
    "\\leq \\left \\lceil{\\frac{2 \\log(2 |\\mathcal{H}| / \\delta) (b-a)^2}{\\epsilon^2}} \\right\\rceil \\;$$"
   ]
  },
  {
   "cell_type": "markdown",
   "metadata": {},
   "source": [
    "**Solution:** \n",
    "\n",
    "The first inequality $$m_{\\mathcal{H}}(\\epsilon, \\delta)\n",
    "\\leq m_\\mathcal{H}^{\\text{UC}}(\\epsilon / 2, \\delta)$$\n",
    "\n",
    "is a restatement of the Corollary previously proved. To show the second inequality, we\n",
    "want to prove that for any $\\epsilon, \\delta$\n",
    "\n",
    "$$\\mathcal{D}^m(\\{S: \\exists h \\in \\mathcal{H}, |L_S(h) - L_\\mathcal{D}(h)| > \\frac{\\epsilon}{2} \\}) \\leq \\delta \\; .$$\n",
    "\n",
    "Using the Union Bound, we have that\n",
    "$$\\mathcal{D}^m(\\{S: \\exists h \\in \\mathcal{H}, |L_S(h) - L_\\mathcal{D}(h)| > \\frac{\\epsilon}{2} \\})\n",
    "\\leq\n",
    "\\sum_{h \\in \\mathcal{H}} \\mathcal{D}^m(\\{S : |L_S(h) - L_D(h)| > \\frac{\\epsilon}{2} \\}) \\; .$$\n",
    "\n",
    "To use Hoeffding's inequaility, we need to formulate our problem\n",
    "correctly in terms of assumptions and random variables. We can consider\n",
    "our random variable $\\theta_i = l(h, z_i)$ or the loss that a hypothesis\n",
    "$h$ achieves on a sample data point $z_i$. Then, we have that each\n",
    "$\\theta_i$ is iid because each of the points $z_i$ are sampled iid.\n",
    "Finally, we have that $L_S(h) = \\sum_{i = 1}^m \\frac{1}{m} \\theta_i$ and\n",
    "$L_D(h) = \\mu$. Now, we can invoke Hoeffding's Inequality to get that:\n",
    "\n",
    "$$\\begin{aligned}\n",
    "\\sum_{h \\in \\mathcal{H}} \\mathcal{D}^m(\\{S : |L_S(h) - L_D(h)| > \\frac{\\epsilon}{2} \\})\n",
    "& \\leq\n",
    "\\sum_{h \\in \\mathcal{H}} 2 \\exp(-2 m \\epsilon^2 / (4(b - a)^2)) \\\\ \\\\\n",
    "& = 2 |\\mathcal{H}|\\exp(-2 m \\epsilon^2 / (4(b - a)^2))\n",
    "\\end{aligned}$$ \n",
    "\n",
    "since each term is identical. Now, we can choose a\n",
    "specific $m$ (to solve for $\\delta$) to find our sample complexity.\n",
    "Thus, we take\n",
    "$$m = \\left \\lceil{\\frac{2 \\log(2 |\\mathcal{H}| / \\delta) (b-a)^2}{\\epsilon^2}} \\right\\rceil \\;$$\n",
    "Substituting this definition into the previous equations:\n",
    "$$\\begin{aligned}\n",
    "\\mathcal{D}^m(\\{S: \\exists h \\in \\mathcal{H}, |L_S(h) - L_\\mathcal{D}(h)| > \\frac{\\epsilon}{2} \\})\n",
    "& \\leq\n",
    "2 |\\mathcal{H}|\\exp\\left(-2 \\epsilon^2 \\left(\\frac{2 \\log(2 |\\mathcal{H}| / \\delta ) (b-a)^2}{4\\epsilon^2(b - a)^2}\\right) \\right) \\\\\n",
    "& =\n",
    "2 |\\mathcal{H}|\\exp\\left(\\frac{-\\log(2 |\\mathcal{H}| / \\delta ) (b-a)^2}{(b - a)^2} \\right) \\\\\n",
    "&= \\delta\n",
    "\\end{aligned}$$"
   ]
  }
 ],
 "metadata": {
  "kernelspec": {
   "display_name": "Python 3 (ipykernel)",
   "language": "python",
   "name": "python3"
  },
  "language_info": {
   "codemirror_mode": {
    "name": "ipython",
    "version": 3
   },
   "file_extension": ".py",
   "mimetype": "text/x-python",
   "name": "python",
   "nbconvert_exporter": "python",
   "pygments_lexer": "ipython3",
   "version": "3.10.7"
  },
  "vscode": {
   "interpreter": {
    "hash": "bcd9bc17ffadb8b3c09124f861805f4f094648af93180b87f0218364b7d0c0de"
   }
  }
 },
 "nbformat": 4,
 "nbformat_minor": 2
}
