{
 "cells": [
  {
   "cell_type": "markdown",
   "metadata": {},
   "source": [
    "# **Homework 1**\n",
    "\n",
    "Due: February 9nd, 4pm (grace period until 6pm)\n",
    "\n",
    "25 points total (Problem 1: 8 points, Problem 2: 6 points, Coding Assignment: 11 points)\n",
    "\n",
    "## **Written Assignment**\n",
    "\n",
    "### Introduction: Solidifying Background\n",
    "\n",
    "The purpose of this portion is to fortify your background in probability\n",
    "and statistics, linear algebra, and algorithmic analysis. The topics\n",
    "explored here will be used many times throughout this course.  \n",
    "  \n",
    "You may be able to find answers to these problems by searching the\n",
    "problem text. Please search instead for the concepts being applied; the\n",
    "goal is not to solve these specific problems, but to be comfortable with\n",
    "the principles that will be applied later in the course."
   ]
  },
  {
   "cell_type": "markdown",
   "metadata": {},
   "source": [
    "### **Problem 1: Bayes' Rule**\n",
    "\n",
    "Bayes' Rule, or Bayes' Theorem is an oft-used identity coming from\n",
    "probability theory. If we have two events of interest, *A* and *B*, we\n",
    "might want to ask what the probability of *B* is, given that we know *A*\n",
    "happened.\n",
    "\n",
    "$$P(B|A) = \\frac{P(A|B) P(B)}{P(A)}$$\n",
    "\n",
    "Note that this is the same as\n",
    "\n",
    "$$P(B|A) = \\frac{P(A \\cap B)}{P(A)}.$$\n",
    "\n",
    "Later in this course, the parts of this formula may be relabeled:\n",
    "\n",
    "$$\\text{Posterior} = \\frac{\\text{Likelihood} * \\text{Prior}}{\\text{Evidence}}$$\n",
    "\n",
    "This rule will be explicitly used in Bayesian algorithms, but it is also a principle that will *implicitly* underlie almost all of our machine learning algorithms. This problem consists of four parts, each worth 3 points (1 point if the answer is correct and an additional point for showing correct work). As a hint, none of the four parts have the same answer.  \n",
    "\n",
    "For the purposes of this question, assume that desserts have equal probability of being a cake or ice cream and uniform probability of being any of the following 7 flavors: chocolate, vanilla, strawberry, coconut, cookies & cream, fudge, and raspberry.  \n",
    "\n",
    "1.  Suppose Steve has two desserts. What is the probability that both desserts are cakes?\n",
    "\n",
    "2.  Suppose Paul has two desserts, the first of which is ice cream. What is the probability that both desserts are ice cream?\n",
    "\n",
    "3.  Suppose Chace has two desserts and at least one is a cake. What is the probability that both desserts are cakes?\n",
    "\n",
    "4.  Suppose Andrew has two desserts and at least one is chocolate flavored ice cream. What is the probability that both desserts are ice cream?\n"
   ]
  },
  {
   "cell_type": "markdown",
   "metadata": {},
   "source": [
    "**Solution:**\n",
    "\n",
    "1. \n",
    " $$\\begin{aligned} P(both \\ cake) & = P(\\text{1st is cake} \\cap \\text{2nd is cake}) \\\\ & = P(\\text{1st is cake}) \\times P(\\text{2nd is cake}) \\quad \\text{ (since these events are independent)}\\\\ & = \\frac{1}{2} \\times \\frac{1}{2} \\\\ & = \\frac{1}{4} \\end{aligned}$$\n",
    "        \n",
    "2. \n",
    " $$\\begin{aligned} P(\\text{both ice cream}|\\text{1st is ice cream}) & = \\frac{P(\\text{1st is ice cream }| \\text{ both ice cream}) P(\\text{both ice cream})}{P(\\text{1st is ice cream})}\\\\ & =  \\frac{1 \\times \\frac{1}{4}}{\\frac{1}{2}} \\\\ & = \\frac{1}{2} \\end{aligned}$$\n",
    "\n",
    "3. Begin by noting that the combinations of (C,C), (C,I), (I,C), and (I,I) are equally likely.\n",
    "\n",
    " $$\\begin{aligned} P(\\text{both cake }|\\text{ at least 1 cake}) & = \\frac{P(\\text{at least 1 cake }|\\text{ both  cake}) P(\\text{both cake})}{P(\\text{at least 1 cake})}\\\\ & = \\frac{1 \\times \\frac{1}{4}}{\\frac{3}{4}}\\\\ & = \\frac{1}{3} \\end{aligned}$$\n",
    "\n",
    "4. At first glance, this problem closely resembles the\n",
    " one above it. However, the answer (spoiler) is $\\frac{13}{27}$,\n",
    " which is much closer to $\\frac{1}{2}$ than $\\frac{1}{3}$. This\n",
    " surprising result may become more intuitive if we ask a related\n",
    " question, such as \"Suppose Andrew has two cakes and at least one is\n",
    " a cake that wins an award. What is the probability that both are\n",
    " cakes?\" Obviously, having at least one cake win an award almost\n",
    " twice as likely if you have two cakes. (It actually *is* twice as\n",
    " likely, minus the chance they both win the lottery). This nearly\n",
    " balances the fact that having one cake and one ice cream is nearly\n",
    " twice as likely as having two ice creams. But how do we compute this\n",
    " result? A careful application of Bayes' Theorem will tell us which\n",
    " terms we need to compute. Here we will use the set-intersection form\n",
    " for simplicity. Let $I_c$ denote the event that an ice cream is\n",
    " chocolate flavored.\n",
    "\n",
    " $$\\begin{aligned} P(\\text{both ice cream }|\\text{ at least 1 } I_c) & = \\frac{P(\\text{ at least 1 } I_c \\cap \\text{ both ice cream})}{P(\\text{ at least 1 } I_c)}\\end{aligned}$$\n",
    "\n",
    " To satisfy the condition that one ice cream is chocolate, we have\n",
    " the following possibilities:\n",
    "\n",
    " Two ice creams, first is chocolate, second is not (6 possible\n",
    " combinations)\n",
    "\n",
    " Two ice creams, first is not chocolate, second is (6 possible\n",
    " combinations)\n",
    "\n",
    " Two ice creams, both chocolate (1 combination)\n",
    "\n",
    " One ice cream one cake, first is chocolate ice cream, second is any\n",
    " flavor cake (7 combinations)\n",
    "\n",
    " One cake one ice cream, first is any flavor cake, second is\n",
    " chocolate ice cream (7 combinations)\n",
    "\n",
    " There are 27 combinations that satisfy the initial condition of at\n",
    " least one chocolate ice cream, but only 13 of those combinations\n",
    " result in both desserts being ice cream. Therefore, the probability\n",
    " that both desserts are ice cream is $\\frac{13}{27}$.\n"
   ]
  },
  {
   "cell_type": "markdown",
   "metadata": {},
   "source": [
    "### **Problem 2: Linear algebra review** (6 points)\n",
    "\n",
    "1. Let A = $\\begin{bmatrix} 4 & -5 & 0 & 1 \\\\ 2 & 8 & 0 & 0 \\\\ -1 & 5 & 3 & 2 \\end{bmatrix}$ and B = $\\begin{bmatrix} 3 & -1 & 2 \\\\ 4 & 2 & 0 \\end{bmatrix}$. Calculate the products AB, A<sup>T</sup>B, BA and B<sup>T</sup>A! Solve this problem on paper and add the solution below.\n",
    "\n",
    "2. Describe what a determinant is, why it is important, and how to calculate it for a 3$\\times$3 matrix!\n",
    "\n",
    "3. Let $A = \\in\\mathbb{R}^{n,n}$ be a matrix. A nonzero vector $u$ is an eigenvector of $A$ with a corresponding eigenvalue $\\lambda$ if $Au = \\lambda u$. We call the eigenvector together with its eigenvalue an eigenpair. Find a matrix with eigenpairs ([1,0],2) and ([1,1],3)."
   ]
  },
  {
   "cell_type": "markdown",
   "metadata": {},
   "source": [
    "**Solution:**\n",
    "\n",
    "1. AB, A<sup>T</sup>B, and B<sup>T</sup>A cannot be calculated because of their shapes. The shapes of two matrices need to be $m\\times n$ * $n\\times k$ to calculate their products.\n"
   ]
  },
  {
   "cell_type": "code",
   "execution_count": 1,
   "metadata": {},
   "outputs": [
    {
     "name": "stdout",
     "output_type": "stream",
     "text": [
      "[[  8 -13   6   7]\n",
      " [ 20  -4   0   4]]\n"
     ]
    }
   ],
   "source": [
    "# the students should not use code to solve it! This is just for your solution!\n",
    "import numpy as np\n",
    "A = np.array([ [4 , -5 , 0 , 1], [2 , 8 , 0 , 0], [-1 , 5 , 3 , 2]])\n",
    "B = np.array([[3 , -1 , 2], [4 , 2 , 0]])\n",
    "\n",
    "print(np.dot(B,A))"
   ]
  },
  {
   "cell_type": "markdown",
   "metadata": {},
   "source": [
    "2. It's a scalar value calculated for square matrices. A matrix's determinant is non-zero if it is invertable. The question to calculate it for a 3x3 matrix is available e.g., on [wiki](https://en.wikipedia.org/wiki/Determinant). Make sure the equation they give is correct!\n",
    "\n",
    "3. The matrix equations are\n",
    "\n",
    "Eq. 1: $\\begin{bmatrix} a & b  \\\\ c & d  \\end{bmatrix} \\begin{bmatrix} 1  \\\\ 0  \\end{bmatrix} = 2 \\begin{bmatrix} 1  \\\\ 0  \\end{bmatrix}$ \n",
    "\n",
    "and\n",
    "\n",
    "Eq. 2: $\\begin{bmatrix} a & b  \\\\ c & d  \\end{bmatrix} \\begin{bmatrix} 1  \\\\ 1  \\end{bmatrix} = 3 \\begin{bmatrix} 1  \\\\ 1  \\end{bmatrix}$\n",
    "\n",
    "If you write out Eq. 1, you'll see that $\\begin{bmatrix} a  \\\\ c  \\end{bmatrix} = \\begin{bmatrix} 2  \\\\ 0  \\end{bmatrix}$ because the second component of the eigen vector is 0, so $a = 2$ and $c = 0$.\n",
    "\n",
    "If you substitute $a = 2$ and $c = 0$ into Eq. 2, you'll get $\\begin{bmatrix} 2+b  \\\\ d  \\end{bmatrix} = \\begin{bmatrix} 3  \\\\ 3  \\end{bmatrix}$ so $b=1$ and $d = 3$.\n",
    "\n",
    "So $A =\\begin{bmatrix} 2 & 1  \\\\ 0 & 3  \\end{bmatrix}$."
   ]
  },
  {
   "cell_type": "markdown",
   "metadata": {},
   "source": [
    "## **Coding Assignment**\n",
    "\n",
    "### **Numpy and Matplotlib**\n",
    "\n",
    "#### Introduction\n",
    "\n",
    "Please follow the instructions in [this](https://docs.google.com/document/d/1KWDeIpxCGWT2eZPghiTv3QPmzQiLqiOD8mDxEI_sKlM) google doc **before** you start the coding assignment. You will be asked to create a DATA2060 conda environment. We recommend that you use conda but if you are more familiar with other package managers (like docker, homebrew, poetry), feel free to use those. However, please note that the TAs might not be able to help if you do not use conda. The most important thing is to install the packages with their versions as shown in the data2060.yml file of the [course's github repository](https://github.com/BrownDSI/DATA2060-Spring2023). \n",
    "\n",
    "The purpose of this section is to introduce you to some tools that you will find useful and/or necessary in order to complete future homeworks. By the end of this assignment, you will have used numpy to perform efficient computations, loaded standard datasets using sklearn, and used matplotlib to visualize several performance metrics you will be using this semester. This homework will also get you familiar with the hand-in process for jupyter notebooks."
   ]
  },
  {
   "cell_type": "code",
   "execution_count": 1,
   "metadata": {},
   "outputs": [
    {
     "name": "stdout",
     "output_type": "stream",
     "text": [
      "\u001b[42m[ OK ]\u001b[0m Python version is 3.10.7\n",
      "\n",
      "\u001b[42m[ OK ]\u001b[0m matplotlib version 3.7.2 is installed.\n",
      "\u001b[42m[ OK ]\u001b[0m numpy version 1.24.4 is installed.\n",
      "\u001b[42m[ OK ]\u001b[0m sklearn version 1.3.0 is installed.\n",
      "\u001b[42m[ OK ]\u001b[0m pandas version 2.0.3 is installed.\n",
      "\u001b[42m[ OK ]\u001b[0m pytest version 7.2.1 is installed.\n"
     ]
    }
   ],
   "source": [
    "# [TODO] run this cell \n",
    "# We will deduct one point for each missing or failed check.\n",
    "\n",
    "from __future__ import print_function\n",
    "from packaging.version import parse as Version\n",
    "from platform import python_version\n",
    "\n",
    "OK = '\\x1b[42m[ OK ]\\x1b[0m'\n",
    "FAIL = \"\\x1b[41m[FAIL]\\x1b[0m\"\n",
    "\n",
    "try:\n",
    "    import importlib\n",
    "except ImportError:\n",
    "    print(FAIL, \"Python version 3.10 is required,\"\n",
    "                \" but %s is installed.\" % sys.version)\n",
    "\n",
    "def import_version(pkg, min_ver, fail_msg=\"\"):\n",
    "    mod = None\n",
    "    try:\n",
    "        mod = importlib.import_module(pkg)\n",
    "        if pkg in {'PIL'}:\n",
    "            ver = mod.VERSION\n",
    "        else:\n",
    "            ver = mod.__version__\n",
    "        if Version(ver) == Version(min_ver):\n",
    "            print(OK, \"%s version %s is installed.\"\n",
    "                  % (lib, min_ver))\n",
    "        else:\n",
    "            print(FAIL, \"%s version %s is required, but %s installed.\"\n",
    "                  % (lib, min_ver, ver))    \n",
    "    except ImportError:\n",
    "        print(FAIL, '%s not installed. %s' % (pkg, fail_msg))\n",
    "    return mod\n",
    "\n",
    "\n",
    "# first check the python version\n",
    "pyversion = Version(python_version())\n",
    "\n",
    "if pyversion >= Version(\"3.10.7\"):\n",
    "    print(OK, \"Python version is %s\" % pyversion)\n",
    "elif pyversion < Version(\"3.10.7\"):\n",
    "    print(FAIL, \"Python version 3.10.7 is required,\"\n",
    "                \" but %s is installed.\" % pyversion)\n",
    "else:\n",
    "    print(FAIL, \"Unknown Python version: %s\" % pyversion)\n",
    "\n",
    "    \n",
    "print()\n",
    "requirements = {'matplotlib': \"3.7.2\", 'numpy': \"1.24.4\",'sklearn': \"1.3.0\", \n",
    "                'pandas': \"2.0.3\", \"pytest\": \"7.2.1\"}\n",
    "\n",
    "# now the dependencies\n",
    "for lib, required_version in list(requirements.items()):\n",
    "    import_version(lib, required_version)"
   ]
  },
  {
   "cell_type": "code",
   "execution_count": 3,
   "metadata": {},
   "outputs": [],
   "source": [
    "# Solution:\n",
    "import numpy as np  # Used to perform efficient (and convenient) array and matrix operations.\n",
    "from sklearn import datasets  # Used to load standard datasets.\n",
    "from matplotlib import pyplot as plt  # Used to create plots.\n",
    "import math  # Used for trigonometric functions, log, pow, etc."
   ]
  },
  {
   "cell_type": "markdown",
   "metadata": {},
   "source": [
    "#### Part 1: Matplotlib\n",
    "\n",
    "This question contains functions you need to fill out, `graph_iris_data` and `graph_series_data`. Note that the `plt.show()` call should be the last call, so add all of your graph customization below the TODO, but above the `show()` call!\n",
    "\n",
    "1.  call `plt.scatter(x, y, c=None)`, giving it the following arguments:\n",
    "\n",
    "    -  the `x` argument will be `xs`\n",
    "\n",
    "    -  the `y` argument will be `ys`\n",
    "\n",
    "    -  in order to give the plotted points color, we will specify the optional c argument. Thus, we will pass a third argument, `c = iris.target`\n",
    "\n",
    "2.  Look into the matplotlib.pyplot documentation and learn how to add titles and axis labels to plots. Add a title to the plot of the form \"Made by: \\[your name\\]\".\n",
    "\n",
    "3.  Examine the column names of the iris data to find appropriate x and y labels for the plot, and use pyplot commands to label the axes of the two iris plots."
   ]
  },
  {
   "cell_type": "code",
   "execution_count": 4,
   "metadata": {},
   "outputs": [
    {
     "data": {
      "image/png": "[encoded data removed]",
      "text/plain": [
       "<Figure size 640x480 with 1 Axes>"
      ]
     },
     "metadata": {},
     "output_type": "display_data"
    }
   ],
   "source": [
    "# Solution:\n",
    "iris = datasets.load_iris()\n",
    "data = iris.data\n",
    "xs = data[:, 0]\n",
    "ys = data[:, 1]\n",
    "\n",
    "# [TODO] plot iris data here\n",
    "\n",
    "plt.scatter(xs, ys, c = iris.target)\n",
    "plt.title(\"Made By: [your name]\")\n",
    "# print(iris.feature_names) # used to find column names\n",
    "plt.xlabel('sepal length (cm)')\n",
    "plt.ylabel('sepal width (cm)')\n",
    "\n",
    "plt.show()"
   ]
  },
  {
   "cell_type": "markdown",
   "metadata": {},
   "source": [
    "We will use a similar process for `graph_series_data`.\n",
    "\n",
    "1.  call `plt.plot(x, y, format)`, giving it the following arguments:\n",
    "\n",
    "    -  the `x` argument will be `xs`\n",
    "\n",
    "    -  the `y` argument will be `y1s`\n",
    "\n",
    "    -  the `format` argument will be `'.r'`\n",
    "\n",
    "2.  call `plt.plot(x, y, format)` again, giving it the following\n",
    "    arguments:\n",
    "\n",
    "    -  the `x` argument will be `xs`\n",
    "\n",
    "    -  the `y` argument will be `y2s`\n",
    "\n",
    "    -  the `format` argument will be `'-b'`\n",
    "\n",
    "3.  Add a title to the plot of the form \"Made by: \\[your name\\]\".\n",
    "\n",
    "4.  Use pyplot commands to add a legend to the series data plot, where each series is labeled with its function. Look [<u>here</u>](https://matplotlib.org/users/legend_guide.html) to start!"
   ]
  },
  {
   "cell_type": "code",
   "execution_count": 5,
   "metadata": {},
   "outputs": [
    {
     "data": {
      "image/png": "[encoded data removed]",
      "text/plain": [
       "<Figure size 640x480 with 1 Axes>"
      ]
     },
     "metadata": {},
     "output_type": "display_data"
    }
   ],
   "source": [
    "# Solution:\n",
    "\n",
    "xs = np.arange(100) * .5 - 10  # Creates a list of 100 values in intervals of .5, starting at -10.\n",
    "# Numpy makes it very easy (and efficient) to do elementwise operations on large datasets.\n",
    "y1s = [x*x for x in xs]  # If you are unfamiliar, this is called Python's \"List Comprehension Syntax\"\n",
    "y2s = [math.sin(x)*x*x for x in xs]\n",
    "# https://matplotlib.org/users/pyplot_tutorial.html is a good starting point for more info.\n",
    "\n",
    "# [TODO] plot series data here\n",
    "\n",
    "plt.plot(xs, y1s, '.r')\n",
    "plt.plot(xs, y2s, '-b')\n",
    "plt.title(\"Made By: [your name]\")\n",
    "\n",
    "plt.legend(['y1s', 'y2s'])\n",
    "\n",
    "plt.show()"
   ]
  },
  {
   "cell_type": "markdown",
   "metadata": {},
   "source": [
    "#### Part 2: Numpy\n",
    "\n",
    "Answer the following questions using numpy functions. Note that when importing numpy, it is often abbreviated to np (i.e., `import numpy as np`), so when calling numpy functions, you can use np.\\[function\\]. Further, note that you may NOT use the np array constructor to solve these questions (i.e., `np.array(...)`). Some functions you may want to consider to approach this problem are `np.arange`, `np.zeros`, `np.ones`, `np.eye`, `np.sum`, `np.hstack`, `np.vstack`, `np.transpose`, `np.matmul`, `np.inner`, `np.where` and `np.dot`.\n",
    "\n",
    "-  Using numpy, how would you create a 1D array containing the values 2\n",
    "    through 6 inclusive?"
   ]
  },
  {
   "cell_type": "code",
   "execution_count": 6,
   "metadata": {},
   "outputs": [
    {
     "data": {
      "text/plain": [
       "array([2, 3, 4, 5, 6])"
      ]
     },
     "execution_count": 6,
     "metadata": {},
     "output_type": "execute_result"
    }
   ],
   "source": [
    "# Solution:\n",
    "\n",
    "np.arange(2,7)"
   ]
  },
  {
   "cell_type": "markdown",
   "metadata": {},
   "source": [
    "-  Using numpy, how would you create a 4x4 matrix where all the values\n",
    "    are 1?"
   ]
  },
  {
   "cell_type": "code",
   "execution_count": 7,
   "metadata": {},
   "outputs": [
    {
     "data": {
      "text/plain": [
       "array([[1., 1., 1., 1.],\n",
       "       [1., 1., 1., 1.],\n",
       "       [1., 1., 1., 1.],\n",
       "       [1., 1., 1., 1.]])"
      ]
     },
     "execution_count": 7,
     "metadata": {},
     "output_type": "execute_result"
    }
   ],
   "source": [
    "# Solution:\n",
    "\n",
    "x = np.zeros((4,4))\n",
    "x[0:] = 1\n",
    "x"
   ]
  },
  {
   "cell_type": "markdown",
   "metadata": {},
   "source": [
    "-  Using numpy, how would you create a 6x6 identity matrix?"
   ]
  },
  {
   "cell_type": "code",
   "execution_count": 8,
   "metadata": {},
   "outputs": [
    {
     "data": {
      "text/plain": [
       "array([[1., 0., 0., 0., 0., 0.],\n",
       "       [0., 1., 0., 0., 0., 0.],\n",
       "       [0., 0., 1., 0., 0., 0.],\n",
       "       [0., 0., 0., 1., 0., 0.],\n",
       "       [0., 0., 0., 0., 1., 0.],\n",
       "       [0., 0., 0., 0., 0., 1.]])"
      ]
     },
     "execution_count": 8,
     "metadata": {},
     "output_type": "execute_result"
    }
   ],
   "source": [
    "# Solution:\n",
    "\n",
    "np.identity(6)"
   ]
  },
  {
   "cell_type": "markdown",
   "metadata": {},
   "source": [
    "-  Using numpy, how would you sum the values of each column of matrix\n",
    "    A?"
   ]
  },
  {
   "cell_type": "code",
   "execution_count": 9,
   "metadata": {},
   "outputs": [
    {
     "data": {
      "text/plain": [
       "matrix([[4, 6]])"
      ]
     },
     "execution_count": 9,
     "metadata": {},
     "output_type": "execute_result"
    }
   ],
   "source": [
    "# Solution:\n",
    "\n",
    "x = np.matrix([[1,2],[3,4]])\n",
    "x.sum(axis = 0) # axis = 0 for columns, 1 for columns"
   ]
  },
  {
   "cell_type": "markdown",
   "metadata": {},
   "source": [
    "-  Using numpy, given the matrices `A` and `B`, how would you find the\n",
    "    matrix `C`, where `C` = `A`<sup>*T*</sup>`B`?"
   ]
  },
  {
   "cell_type": "code",
   "execution_count": 10,
   "metadata": {},
   "outputs": [
    {
     "data": {
      "text/plain": [
       "matrix([[ 8,  8],\n",
       "        [12, 12]])"
      ]
     },
     "execution_count": 10,
     "metadata": {},
     "output_type": "execute_result"
    }
   ],
   "source": [
    "# Solution:\n",
    "\n",
    "a = np.matrix([[1,2],[3,4]])\n",
    "b = np.matrix([[2,2],[2,2]])\n",
    "\n",
    "a.transpose()*b"
   ]
  },
  {
   "cell_type": "markdown",
   "metadata": {},
   "source": [
    "-  Using numpy, using either np.vstack or np.hstack, how would you\n",
    "    create a 4x2 matrix where all the values in the first column are 0’s\n",
    "    and all the values in the second column are 1’s?"
   ]
  },
  {
   "cell_type": "code",
   "execution_count": 11,
   "metadata": {},
   "outputs": [
    {
     "data": {
      "text/plain": [
       "array([[0, 1],\n",
       "       [0, 1],\n",
       "       [0, 1],\n",
       "       [0, 1]])"
      ]
     },
     "execution_count": 11,
     "metadata": {},
     "output_type": "execute_result"
    }
   ],
   "source": [
    "# Solution:\n",
    "\n",
    "a = np.array([0,1])\n",
    "np.vstack((a,a,a,a))\n",
    "# or\n",
    "a = np.array([[0],[0],[0],[0]])\n",
    "b = np.array([[1],[1],[1],[1]])\n",
    "np.hstack((a,b))"
   ]
  },
  {
   "cell_type": "markdown",
   "metadata": {},
   "source": [
    "-  Given a matrix of floats A, using numpy, how would you return an\n",
    "    array of the same shape, where all values \\> 3.0 are set to 1, and\n",
    "    the rest to 0?"
   ]
  },
  {
   "cell_type": "code",
   "execution_count": 12,
   "metadata": {},
   "outputs": [
    {
     "data": {
      "text/plain": [
       "matrix([[0., 0.],\n",
       "        [0., 1.]])"
      ]
     },
     "execution_count": 12,
     "metadata": {},
     "output_type": "execute_result"
    }
   ],
   "source": [
    "# Solution:\n",
    "\n",
    "a = np.matrix([[1.5,-2.2],[3.0,4.4]])\n",
    "a[a <= 3] = 0\n",
    "a[a > 3] = 1\n",
    "a"
   ]
  }
 ],
 "metadata": {
  "kernelspec": {
   "display_name": "Python 3 (ipykernel)",
   "language": "python",
   "name": "python3"
  },
  "language_info": {
   "codemirror_mode": {
    "name": "ipython",
    "version": 3
   },
   "file_extension": ".py",
   "mimetype": "text/x-python",
   "name": "python",
   "nbconvert_exporter": "python",
   "pygments_lexer": "ipython3",
   "version": "3.10.7"
  },
  "vscode": {
   "interpreter": {
    "hash": "bcd9bc17ffadb8b3c09124f861805f4f094648af93180b87f0218364b7d0c0de"
   }
  }
 },
 "nbformat": 4,
 "nbformat_minor": 4
}
